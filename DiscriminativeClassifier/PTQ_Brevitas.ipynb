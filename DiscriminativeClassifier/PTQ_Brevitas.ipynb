{
 "cells": [
  {
   "cell_type": "code",
   "execution_count": 1,
   "id": "9d0c887f-870d-404f-aa6a-933616f3581c",
   "metadata": {},
   "outputs": [],
   "source": [
    "import torch\n",
    "import pandas as pd\n",
    "import re\n",
    "import spacy\n",
    "from torchtext.data.utils import get_tokenizer\n",
    "import torch.nn as nn\n",
    "import torch.nn.functional as F\n",
    "import random\n",
    "import torch.optim as optim\n",
    "import torchtext\n",
    "import time"
   ]
  },
  {
   "cell_type": "code",
   "execution_count": 2,
   "id": "e0194c0a-cd3f-45c4-a2cf-d7af0344d8d3",
   "metadata": {},
   "outputs": [],
   "source": [
    "from models import LSTMNet\n",
    "import site\n",
    "import os\n",
    "os.environ['SP_DIR'] = '/opt/conda/lib/python3.11/site-packages'\n",
    "\n",
    "accuracies = []\n",
    "\n",
    "# nlp library of Pytorch\n",
    "from torchtext import data\n",
    "\n",
    "import warnings as wrn\n",
    "wrn.filterwarnings('ignore')\n",
    "\n",
    "\n",
    "SEED = 2021\n",
    "\n",
    "torch.manual_seed(SEED)\n",
    "torch.backends.cuda.deterministic = True"
   ]
  },
  {
   "cell_type": "code",
   "execution_count": 3,
   "id": "c053554a-e605-48f7-8de1-9e50772902c7",
   "metadata": {},
   "outputs": [],
   "source": [
    "def clean_text(text):\n",
    "    cleaned_text = re.sub(r'[^A-Za-z0-9]+', ' ', str(text))\n",
    "    return cleaned_text\n",
    "\n",
    "# Load and preprocess the data files\n",
    "def load_and_preprocess(file_path):\n",
    "    df = pd.read_csv(file_path, header=None, delimiter='\\t') # Assuming tab-separated values in .data files\n",
    "    df[1] = df[1].apply(clean_text) # Assuming the text is in the second column\n",
    "    cleaned_file_path = file_path.replace('.data', '_cleaned.data')\n",
    "    df.to_csv(cleaned_file_path, index=False, header=False)\n",
    "    return cleaned_file_path"
   ]
  },
  {
   "cell_type": "code",
   "execution_count": 4,
   "id": "ca6237be-58da-4fa2-8811-3040e3a5f1b0",
   "metadata": {},
   "outputs": [],
   "source": [
    "cleaned_train_file = load_and_preprocess('./data/train.data')\n",
    "cleaned_valid_file = load_and_preprocess('./data/valid.data')\n",
    "cleaned_test_file = load_and_preprocess('./data/test.data')"
   ]
  },
  {
   "cell_type": "code",
   "execution_count": 5,
   "id": "f453d113-78c3-414c-9d29-90efc541a260",
   "metadata": {},
   "outputs": [
    {
     "name": "stdout",
     "output_type": "stream",
     "text": [
      "{'label': '1', 'text': ['AFP', 'US', 'presidential', 'hopeful', 'John', 'Kerry', 'slammed', 'President', 'George', 'W', 'Bush', 's', 'North', 'Korea', 'policy', 'amid', 'reports', 'of', 'a', 'mysterious', 'blast', 'in', 'the', 'isolated', 'Asian', 'state']}\n",
      "Number of instances per class: {'2': 22550, '1': 22526, '3': 22497, '4': 22426}\n",
      "Size of text vocab: 24171\n",
      "Size of label vocab: 4\n",
      "Batch size initialized\n"
     ]
    }
   ],
   "source": [
    "spacy_en = spacy.load('en_core_web_sm')\n",
    "\n",
    "def spacy_tokenizer(text):\n",
    "    return [tok.text for tok in spacy_en.tokenizer(text)]\n",
    "\n",
    "LABEL = data.LabelField()\n",
    "TEXT = data.Field(tokenize=spacy_tokenizer, batch_first=True, include_lengths=True)\n",
    "fields = [(\"label\", LABEL), (\"text\", TEXT)]\n",
    "\n",
    "training_data = data.TabularDataset(path=cleaned_train_file, format=\"csv\", fields=fields, skip_header=True)\n",
    "validation_data = data.TabularDataset(path=cleaned_valid_file, format=\"csv\", fields=fields, skip_header=True)\n",
    "test_data = data.TabularDataset(path=cleaned_test_file, format=\"csv\", fields=fields, skip_header=True)\n",
    "\n",
    "print(vars(training_data.examples[0]))\n",
    "\n",
    "train_data,valid_data = training_data.split(split_ratio=0.75,\n",
    "                                            random_state=random.seed(SEED))\n",
    "\n",
    "TEXT.build_vocab(train_data,\n",
    "                 min_freq=5)\n",
    "\n",
    "LABEL.build_vocab(train_data)\n",
    "# Count the number of instances per class\n",
    "label_counts = {LABEL.vocab.itos[i]: LABEL.vocab.freqs[LABEL.vocab.itos[i]] for i in range(len(LABEL.vocab))}\n",
    "print(\"Number of instances per class:\", label_counts)\n",
    "\n",
    "\n",
    "print(\"Size of text vocab:\",len(TEXT.vocab))\n",
    "\n",
    "print(\"Size of label vocab:\",len(LABEL.vocab))\n",
    "\n",
    "TEXT.vocab.freqs.most_common(10)\n",
    "\n",
    "# Creating GPU variable\n",
    "#device = torch.device(\"cuda\")\n",
    "#device = torch.device('cuda' if torch.cuda.is_available() else 'cpu')\n",
    "device = torch.device('cuda')\n",
    "\n",
    "Sent_SIZE=32\n",
    "print(\"Batch size initialized\")\n"
   ]
  },
  {
   "cell_type": "code",
   "execution_count": 6,
   "id": "32a391c0-6011-4318-9e0c-75d65da3ccba",
   "metadata": {},
   "outputs": [],
   "source": [
    "train_iterator,validation_iterator = data.BucketIterator.splits(\n",
    "    (train_data,valid_data),\n",
    "    batch_size = Sent_SIZE,\n",
    "    # Sort key is how to sort the samples\n",
    "    sort_key = lambda x:len(x.text),\n",
    "    sort_within_batch = True,\n",
    "    device = device\n",
    ")\n",
    "\n",
    "test_iterator = data.BucketIterator(\n",
    "    test_data,\n",
    "    batch_size=Sent_SIZE,\n",
    "    sort_key=lambda x: len(x.text),\n",
    "    sort_within_batch=True,\n",
    "    device=device\n",
    ")"
   ]
  },
  {
   "cell_type": "code",
   "execution_count": 7,
   "id": "1dd3963d-78a3-4013-906b-8eb4618e34bd",
   "metadata": {},
   "outputs": [],
   "source": [
    "SIZE_OF_VOCAB = len(TEXT.vocab)\n",
    "EMBEDDING_DIM = 100\n",
    "NUM_HIDDEN_NODES = 100\n",
    "NUM_OUTPUT_NODES = len(LABEL.vocab)\n",
    "NUM_LAYERS = 1\n",
    "BIDIRECTION = False\n",
    "DROPOUT = 0.2\n",
    "BIT_WIDTH = 32\n",
    "LSTM_BITWIDTH = 8"
   ]
  },
  {
   "cell_type": "code",
   "execution_count": 8,
   "id": "6a41566c-10fa-40e7-99d1-8d0dab4b69dc",
   "metadata": {},
   "outputs": [
    {
     "name": "stdout",
     "output_type": "stream",
     "text": [
      "24171\n",
      "4\n"
     ]
    }
   ],
   "source": [
    "print(SIZE_OF_VOCAB)\n",
    "print(NUM_OUTPUT_NODES)"
   ]
  },
  {
   "cell_type": "code",
   "execution_count": 9,
   "id": "77cc8908-0997-4025-a095-eeff2c2d7a5f",
   "metadata": {},
   "outputs": [
    {
     "name": "stdout",
     "output_type": "stream",
     "text": [
      "True\n"
     ]
    },
    {
     "data": {
      "text/plain": [
       "LSTMNet(\n",
       "  (embedding): Embedding(24171, 100)\n",
       "  (lstm): LSTM(100, 100, batch_first=True, dropout=0.2)\n",
       "  (fc): Linear(in_features=100, out_features=4, bias=False)\n",
       "  (sigmoid): Sigmoid()\n",
       ")"
      ]
     },
     "execution_count": 9,
     "metadata": {},
     "output_type": "execute_result"
    }
   ],
   "source": [
    "model = LSTMNet(SIZE_OF_VOCAB, EMBEDDING_DIM, NUM_HIDDEN_NODES, NUM_OUTPUT_NODES, NUM_LAYERS, BIDIRECTION, DROPOUT, BIT_WIDTH, LSTM_BITWIDTH)\n",
    "criterion = nn.CrossEntropyLoss()\n",
    "#criterion = nn.NLLLoss()\n",
    "\n",
    "print(torch.cuda.is_available())\n",
    "\n",
    "model = model.to(device)\n",
    "optimizer = optim.Adam(model.parameters(),lr=1e-3)\n",
    "#criterion = nn.BCELoss()\n",
    "#criterion = criterion.to(device)\n",
    "\n",
    "model"
   ]
  },
  {
   "cell_type": "code",
   "execution_count": 10,
   "id": "83c03d2e-ddd7-498e-9ee1-9ef426edf86a",
   "metadata": {},
   "outputs": [],
   "source": [
    "def multi_class_accuracy(preds, y):\n",
    "    _, predicted = torch.max(preds, 1)\n",
    "    correct = (predicted == y).float()\n",
    "    acc = correct.sum() / len(correct)\n",
    "    return acc\n",
    "\n",
    "def train(model,iterator,optimizer,criterion):\n",
    "    \n",
    "    epoch_loss = 0.0\n",
    "    epoch_acc = 0.0\n",
    "    \n",
    "    model.train()\n",
    "    \n",
    "    for batch in iterator:\n",
    "        \n",
    "        # cleaning the cache of optimizer\n",
    "        optimizer.zero_grad()\n",
    "        \n",
    "        text,text_lengths = batch.text\n",
    "        #print(\"Text Length:\", text_lengths[0].item())\n",
    "        global Sent_SIZE\n",
    "        #Sent_SIZE=text_lengths[0].item()\n",
    "        #print(\"Sent Length:\", Sent_SIZE)\n",
    "        #print(\"Iterator Batch Size:\", batch.batch_size)\n",
    "        batch.batch_size=Sent_SIZE\n",
    "        #print(\"Iterator Batch Size:\", batch.batch_size)\n",
    "        iterator = data.BucketIterator(\n",
    "            train_data,\n",
    "            batch_size=Sent_SIZE,\n",
    "            sort_key=lambda x: len(x.text),\n",
    "            sort_within_batch=True,\n",
    "            device=device\n",
    "        )\n",
    "        \n",
    "        # forward propagation and squeezing\n",
    "        predictions = model(text,text_lengths).squeeze()\n",
    "        \n",
    "        # computing loss / backward propagation\n",
    "        loss = criterion(predictions, batch.label)\n",
    "        #loss = criterion(predictions,batch.type)\n",
    "        loss.backward()\n",
    "        \n",
    "        # accuracy\n",
    "        acc = multi_class_accuracy(predictions,batch.label)\n",
    "        \n",
    "        # updating params\n",
    "        optimizer.step()\n",
    "        \n",
    "        epoch_loss += loss.item()\n",
    "        epoch_acc += acc.item()\n",
    "        \n",
    "    # It'll return the means of loss and accuracy\n",
    "    return epoch_loss / len(iterator), epoch_acc / len(iterator)\n",
    "\n",
    "def evaluate(model,iterator,criterion):\n",
    "    \n",
    "    epoch_loss = 0.0\n",
    "    epoch_acc = 0.0\n",
    "    \n",
    "    # deactivate the dropouts\n",
    "    model.eval()\n",
    "    \n",
    "    # Sets require_grad flat False\n",
    "    with torch.no_grad():\n",
    "        for batch in iterator:\n",
    "            text,text_lengths = batch.text\n",
    "            \n",
    "            predictions = model(text,text_lengths).squeeze()\n",
    "              \n",
    "            #compute loss and accuracy\n",
    "            loss = criterion(predictions, batch.label)\n",
    "            acc = multi_class_accuracy(predictions, batch.label)\n",
    "            \n",
    "            #keep track of loss and accuracy\n",
    "            epoch_loss += loss.item()\n",
    "            epoch_acc += acc.item()\n",
    "        \n",
    "    return epoch_loss / len(iterator), epoch_acc / len(iterator)\n",
    "\n",
    "def infer(model, iterator, criterion):\n",
    "    epoch_loss = 0.0\n",
    "    epoch_acc = 0.0\n",
    "    \n",
    "    model.eval()\n",
    "    \n",
    "    with torch.no_grad():\n",
    "        for batch in iterator:\n",
    "            text, text_lengths = batch.text\n",
    "            predictions = model(text, text_lengths).squeeze()\n",
    "            loss = criterion(predictions, batch.label)\n",
    "            acc = multi_class_accuracy(predictions, batch.label)\n",
    "            epoch_loss += loss.item()\n",
    "            epoch_acc += acc.item()\n",
    "        \n",
    "    return epoch_loss / len(iterator), epoch_acc / len(iterator)"
   ]
  },
  {
   "cell_type": "code",
   "execution_count": 11,
   "id": "4f9a0110-6660-4159-9a30-6776efa637af",
   "metadata": {},
   "outputs": [],
   "source": [
    "# Create dataset and iterator for test data\n",
    "test_fields = [(\"label\", LABEL), (\"text\", TEXT)]\n",
    "test_data = data.TabularDataset(path=cleaned_test_file, format=\"csv\", fields=test_fields, skip_header=True)"
   ]
  },
  {
   "cell_type": "code",
   "execution_count": 12,
   "id": "3fcdf2cd-7556-4139-be70-c32cba2076fb",
   "metadata": {},
   "outputs": [
    {
     "data": {
      "text/plain": [
       "<All keys matched successfully>"
      ]
     },
     "execution_count": 12,
     "metadata": {},
     "output_type": "execute_result"
    }
   ],
   "source": [
    "checkpoint = torch.load('./modelParameter_LSTM_AGNEWS_FP.pth')\n",
    "model.load_state_dict(checkpoint)"
   ]
  },
  {
   "cell_type": "code",
   "execution_count": 13,
   "id": "10f1de02-ba50-4c24-a06a-102e32ca50e5",
   "metadata": {},
   "outputs": [
    {
     "name": "stdout",
     "output_type": "stream",
     "text": [
      "embedding.weight\n",
      "lstm.weight_ih_l0\n",
      "lstm.weight_hh_l0\n",
      "lstm.bias_ih_l0\n",
      "lstm.bias_hh_l0\n",
      "fc.weight\n"
     ]
    }
   ],
   "source": [
    "for name, param in model.named_parameters():\n",
    "    print(name)"
   ]
  },
  {
   "cell_type": "code",
   "execution_count": 14,
   "id": "9c1de404-a890-43f1-bdc7-da22559e1518",
   "metadata": {},
   "outputs": [],
   "source": [
    "from brevitas.quant import Int8ActPerTensorFixedPoint, Int8WeightPerTensorFixedPoint\n",
    "from brevitas.graph.quantize import preprocess_for_quantize\n",
    "from brevitas_examples.imagenet_classification.ptq.ptq_common import quantize_model\n",
    "from brevitas_examples.imagenet_classification.ptq.ptq_common import calibrate"
   ]
  },
  {
   "cell_type": "code",
   "execution_count": 15,
   "id": "4e5a67b3-27ab-43b8-83fc-55a91242979e",
   "metadata": {},
   "outputs": [
    {
     "name": "stdout",
     "output_type": "stream",
     "text": [
      "1\n"
     ]
    }
   ],
   "source": [
    "model = preprocess_for_quantize(\n",
    "            model,\n",
    "            equalize_iters=20,\n",
    "            equalize_merge_bias=True,\n",
    "            merge_bn=True,\n",
    "            channel_splitting_ratio=0.0,\n",
    "            channel_splitting_split_input=False)"
   ]
  },
  {
   "cell_type": "code",
   "execution_count": 16,
   "id": "763e1744-379c-4cc3-9b9b-dc1fa80777cf",
   "metadata": {},
   "outputs": [],
   "source": [
    "dtype = getattr(torch, 'float')"
   ]
  },
  {
   "cell_type": "code",
   "execution_count": 51,
   "id": "a8805c80-4b04-4dbd-a7ae-9ae63b8fcf2c",
   "metadata": {},
   "outputs": [],
   "source": [
    "quant_model = quantize_model(\n",
    "        model,\n",
    "        dtype=dtype,\n",
    "        device=device,\n",
    "        backend='layerwise',\n",
    "        scale_factor_type='float_scale',\n",
    "        bias_bit_width=32,\n",
    "        weight_bit_width=4,\n",
    "        weight_narrow_range=False,\n",
    "        weight_param_method='stats',\n",
    "        weight_quant_granularity='per_tensor',\n",
    "        weight_quant_type='sym',\n",
    "        layerwise_first_last_bit_width=4,\n",
    "        act_bit_width=4,\n",
    "        act_param_method='stats',\n",
    "        act_quant_percentile=99.99,\n",
    "        act_quant_type='sym',\n",
    "        quant_format='int',\n",
    "        layerwise_first_last_mantissa_bit_width=4,\n",
    "        layerwise_first_last_exponent_bit_width=3,\n",
    "        weight_mantissa_bit_width=4,\n",
    "        weight_exponent_bit_width=3,\n",
    "        act_mantissa_bit_width=4,\n",
    "        act_exponent_bit_width=3)"
   ]
  },
  {
   "cell_type": "code",
   "execution_count": 52,
   "id": "1fa0286c-3815-4592-b5fd-c6979b107a03",
   "metadata": {},
   "outputs": [
    {
     "name": "stdout",
     "output_type": "stream",
     "text": [
      "embedding.weight\n",
      "lstm.weight_ih_l0\n",
      "lstm.weight_hh_l0\n",
      "lstm.bias_ih_l0\n",
      "lstm.bias_hh_l0\n",
      "fc.weight\n",
      "fc.input_quant.fused_activation_quant_proxy.tensor_quant.scaling_impl.value\n",
      "fc.weight_quant.tensor_quant.scaling_impl.value\n"
     ]
    }
   ],
   "source": [
    "for name, param in quant_model.named_parameters():\n",
    "    print(name)"
   ]
  },
  {
   "cell_type": "code",
   "execution_count": 53,
   "id": "72fc38b9-1cea-46e9-bc51-1e19f8a0d2a6",
   "metadata": {},
   "outputs": [],
   "source": [
    "def calibrate(model, iterator):\n",
    "    model.eval()\n",
    "    with torch.no_grad():\n",
    "        for batch in iterator:\n",
    "            text, text_lengths = batch.text\n",
    "            _ = model(text, text_lengths)"
   ]
  },
  {
   "cell_type": "code",
   "execution_count": 54,
   "id": "4ebe6228-a6e6-434a-8195-489b315f3336",
   "metadata": {},
   "outputs": [],
   "source": [
    "calibrate(quant_model, train_iterator)"
   ]
  },
  {
   "cell_type": "code",
   "execution_count": 55,
   "id": "0f73e63a-4a15-469c-9fc1-c3673544263d",
   "metadata": {},
   "outputs": [
    {
     "name": "stdout",
     "output_type": "stream",
     "text": [
      "\t Test. Loss: 0.713 |  Test. Acc: 87.92%\n"
     ]
    }
   ],
   "source": [
    "test_loss, test_acc = infer(quant_model, test_iterator, criterion)\n",
    "print(f'\\t Test. Loss: {test_loss:.3f} |  Test. Acc: {test_acc*100:.2f}%')"
   ]
  },
  {
   "cell_type": "code",
   "execution_count": 60,
   "id": "2704b406-32bd-485a-a2dd-19f787e2a4fc",
   "metadata": {},
   "outputs": [
    {
     "data": {
      "text/plain": [
       "{'inception_preprocessing': False,\n",
       " 'resize_shape': 256,\n",
       " 'center_crop_shape': 224}"
      ]
     },
     "execution_count": 60,
     "metadata": {},
     "output_type": "execute_result"
    }
   ],
   "source": [
    "from brevitas_examples.imagenet_classification.ptq.utils import get_model_config\n",
    "model_config = get_model_config(quant_model)\n",
    "model_config"
   ]
  },
  {
   "cell_type": "code",
   "execution_count": 62,
   "id": "2c8ca81f-ce5c-47fe-b0e4-a8e8f8c7cbd7",
   "metadata": {},
   "outputs": [],
   "source": [
    "center_crop_shape = model_config['center_crop_shape']\n",
    "img_shape = center_crop_shape"
   ]
  },
  {
   "cell_type": "code",
   "execution_count": 64,
   "id": "2120e4ab-8c35-4b07-bc97-aa2827ac5da3",
   "metadata": {},
   "outputs": [],
   "source": [
    "device, dtype = next(model.parameters()).device, next(model.parameters()).dtype\n",
    "ref_input = torch.ones(1, 3, img_shape, img_shape, device=device, dtype=dtype)"
   ]
  },
  {
   "cell_type": "code",
   "execution_count": null,
   "id": "50042e60-b9f7-4e63-a1af-cde963b69993",
   "metadata": {},
   "outputs": [],
   "source": []
  },
  {
   "cell_type": "code",
   "execution_count": null,
   "id": "6545355e-ccfc-4ae4-a7ef-338aa17b349e",
   "metadata": {},
   "outputs": [],
   "source": []
  }
 ],
 "metadata": {
  "kernelspec": {
   "display_name": "Python 3 (ipykernel)",
   "language": "python",
   "name": "python3"
  },
  "language_info": {
   "codemirror_mode": {
    "name": "ipython",
    "version": 3
   },
   "file_extension": ".py",
   "mimetype": "text/x-python",
   "name": "python",
   "nbconvert_exporter": "python",
   "pygments_lexer": "ipython3",
   "version": "3.11.5"
  }
 },
 "nbformat": 4,
 "nbformat_minor": 5
}
